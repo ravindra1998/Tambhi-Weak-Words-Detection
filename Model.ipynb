{
 "cells": [
  {
   "cell_type": "code",
   "execution_count": 54,
   "metadata": {},
   "outputs": [],
   "source": [
    "import keras\n",
    "from keras.models import Sequential\n",
    "from keras.layers import Dense , Dropout, Flatten , Conv2D , MaxPooling2D , GRU\n",
    "from keras.utils import to_categorical\n",
    "from keras.callbacks import ModelCheckpoint\n",
    "from keras.utils import plot_model\n",
    "import numpy as np\n",
    "import librosa\n",
    "import matplotlib.pyplot as plt\n",
    "import os\n",
    "import seaborn as sns\n",
    "from tqdm import tqdm\n",
    "from sklearn.model_selection import train_test_split\n",
    "from keras.constraints import non_neg, max_norm\n",
    "from sklearn.metrics import confusion_matrix"
   ]
  },
  {
   "cell_type": "code",
   "execution_count": 6,
   "metadata": {},
   "outputs": [],
   "source": [
    "DATA_PATH = 'npy-files'\n",
    "\n",
    "def get_labels(path=DATA_PATH):\n",
    "    labels = os.listdir(path)\n",
    "    #print(labels)\n",
    "    labels_indices = np.arange(0, len(labels))\n",
    "    #print(labels_indices)\n",
    "    return labels, labels_indices, to_categorical(labels_indices)\n",
    "\n",
    "def get_train_test(split_ratio=0.8, random_state=42):\n",
    "    labels, indices, _ = get_labels()\n",
    "    print(labels)\n",
    "    print(indices)\n",
    "    X = np.load(DATA_PATH+'/'+labels[0] )\n",
    "    #print(X.shape)\n",
    "    y = np.zeros(X.shape[0])\n",
    "\n",
    "    for i, label in enumerate(labels[1:]):\n",
    "        x = np.load(DATA_PATH+'/'+label )\n",
    "        X = np.vstack((X, x))\n",
    "        y = np.append(y, np.full(x.shape[0], fill_value=(i + 1)))\n",
    "    assert X.shape[0] == len(y)\n",
    "\n",
    "    return train_test_split(X, y, test_size=(1 - split_ratio), random_state=random_state)"
   ]
  },
  {
   "cell_type": "code",
   "execution_count": 11,
   "metadata": {},
   "outputs": [],
   "source": [
    "OUTPUT_PATH = 'OUTPUT/'\n",
    "EPOCHS = 10\n",
    "\n",
    "CLASSES_NUM = 3"
   ]
  },
  {
   "cell_type": "code",
   "execution_count": 12,
   "metadata": {},
   "outputs": [
    {
     "name": "stdout",
     "output_type": "stream",
     "text": [
      "['not_wake.npy', 'output.npy', 'wake.npy']\n",
      "[0 1 2]\n"
     ]
    }
   ],
   "source": [
    "X_train, X_test, y_train, y_test = get_train_test()"
   ]
  },
  {
   "cell_type": "code",
   "execution_count": 13,
   "metadata": {},
   "outputs": [
    {
     "name": "stdout",
     "output_type": "stream",
     "text": [
      "(1275, 31, 16) (1275,) (319, 31, 16) (319,)\n"
     ]
    }
   ],
   "source": [
    "print(X_train.shape, y_train.shape, X_test.shape, y_test.shape)"
   ]
  },
  {
   "cell_type": "code",
   "execution_count": 57,
   "metadata": {},
   "outputs": [
    {
     "data": {
      "text/plain": [
       "(31, 16)"
      ]
     },
     "execution_count": 57,
     "metadata": {},
     "output_type": "execute_result"
    }
   ],
   "source": [
    "X_train[0].shape"
   ]
  },
  {
   "cell_type": "code",
   "execution_count": 14,
   "metadata": {},
   "outputs": [],
   "source": [
    "y_train_hot = to_categorical(y_train,num_classes=CLASSES_NUM)\n",
    "y_test_hot = to_categorical(y_test,num_classes=CLASSES_NUM)"
   ]
  },
  {
   "cell_type": "code",
   "execution_count": 19,
   "metadata": {},
   "outputs": [
    {
     "name": "stdout",
     "output_type": "stream",
     "text": [
      "_________________________________________________________________\n",
      "Layer (type)                 Output Shape              Param #   \n",
      "=================================================================\n",
      "dropout_9 (Dropout)          (None, 31, 16)            0         \n",
      "_________________________________________________________________\n",
      "gru_5 (GRU)                  (None, 31, 20)            2220      \n",
      "_________________________________________________________________\n",
      "dropout_10 (Dropout)         (None, 31, 20)            0         \n",
      "_________________________________________________________________\n",
      "gru_6 (GRU)                  (None, 20)                2460      \n",
      "_________________________________________________________________\n",
      "dropout_11 (Dropout)         (None, 20)                0         \n",
      "_________________________________________________________________\n",
      "dense_5 (Dense)              (None, 20)                420       \n",
      "_________________________________________________________________\n",
      "dropout_12 (Dropout)         (None, 20)                0         \n",
      "_________________________________________________________________\n",
      "dense_6 (Dense)              (None, 3)                 63        \n",
      "=================================================================\n",
      "Total params: 5,163\n",
      "Trainable params: 5,163\n",
      "Non-trainable params: 0\n",
      "_________________________________________________________________\n"
     ]
    }
   ],
   "source": [
    "model = Sequential()\n",
    "model.add(Dropout(0.0, input_shape=(31,16)))\n",
    "model.add(GRU(20,activation='linear',return_sequences=True))\n",
    "model.add(Dropout(0.3))\n",
    "model.add(GRU(20, activation='linear'))\n",
    "model.add(Dropout(0.3))\n",
    "model.add(Dense(20, activation='linear'))\n",
    "model.add(Dropout(0.3))\n",
    "model.add(Dense(3, activation='sigmoid'))\n",
    "model.summary()"
   ]
  },
  {
   "cell_type": "code",
   "execution_count": 20,
   "metadata": {},
   "outputs": [],
   "source": [
    "model.compile(loss=keras.losses.categorical_crossentropy, optimizer=keras.optimizers.Adam(),metrics=['accuracy'])"
   ]
  },
  {
   "cell_type": "code",
   "execution_count": 21,
   "metadata": {},
   "outputs": [
    {
     "name": "stdout",
     "output_type": "stream",
     "text": [
      "WARNING:tensorflow:From C:\\Users\\Ravindra Singh\\anaconda3\\lib\\site-packages\\tensorflow\\python\\ops\\math_ops.py:3066: to_int32 (from tensorflow.python.ops.math_ops) is deprecated and will be removed in a future version.\n",
      "Instructions for updating:\n",
      "Use tf.cast instead.\n",
      "Train on 1275 samples, validate on 319 samples\n",
      "Epoch 1/30\n",
      "1275/1275 [==============================] - 4s 3ms/step - loss: 1.4374 - acc: 0.4486 - val_loss: 0.7016 - val_acc: 0.8088\n",
      "Epoch 2/30\n",
      "1275/1275 [==============================] - 1s 433us/step - loss: 0.7129 - acc: 0.7843 - val_loss: 0.3262 - val_acc: 0.9216\n",
      "Epoch 3/30\n",
      "1275/1275 [==============================] - 1s 442us/step - loss: 0.4779 - acc: 0.8643 - val_loss: 0.2103 - val_acc: 0.9216\n",
      "Epoch 4/30\n",
      "1275/1275 [==============================] - 1s 431us/step - loss: 0.3317 - acc: 0.8863 - val_loss: 0.1818 - val_acc: 0.9248\n",
      "Epoch 5/30\n",
      "1275/1275 [==============================] - 1s 444us/step - loss: 0.2784 - acc: 0.8910 - val_loss: 0.1611 - val_acc: 0.9248\n",
      "Epoch 6/30\n",
      "1275/1275 [==============================] - 1s 441us/step - loss: 0.2447 - acc: 0.8957 - val_loss: 0.1418 - val_acc: 0.9279\n",
      "Epoch 7/30\n",
      "1275/1275 [==============================] - 1s 432us/step - loss: 0.2395 - acc: 0.8980 - val_loss: 0.1292 - val_acc: 0.9279\n",
      "Epoch 8/30\n",
      "1275/1275 [==============================] - 1s 447us/step - loss: 0.2104 - acc: 0.9106 - val_loss: 0.1141 - val_acc: 0.9310\n",
      "Epoch 9/30\n",
      "1275/1275 [==============================] - 1s 433us/step - loss: 0.1953 - acc: 0.9153 - val_loss: 0.1074 - val_acc: 0.9342\n",
      "Epoch 10/30\n",
      "1275/1275 [==============================] - 1s 440us/step - loss: 0.1714 - acc: 0.9208 - val_loss: 0.0980 - val_acc: 0.9436\n",
      "Epoch 11/30\n",
      "1275/1275 [==============================] - 1s 436us/step - loss: 0.1660 - acc: 0.9231 - val_loss: 0.0887 - val_acc: 0.9561\n",
      "Epoch 12/30\n",
      "1275/1275 [==============================] - 1s 433us/step - loss: 0.1681 - acc: 0.9318 - val_loss: 0.0815 - val_acc: 0.9687\n",
      "Epoch 13/30\n",
      "1275/1275 [==============================] - 1s 409us/step - loss: 0.1415 - acc: 0.9404 - val_loss: 0.0746 - val_acc: 0.9843\n",
      "Epoch 14/30\n",
      "1275/1275 [==============================] - 1s 427us/step - loss: 0.1323 - acc: 0.9529 - val_loss: 0.0684 - val_acc: 0.9906\n",
      "Epoch 15/30\n",
      "1275/1275 [==============================] - 1s 420us/step - loss: 0.1292 - acc: 0.9561 - val_loss: 0.0642 - val_acc: 0.9937\n",
      "Epoch 16/30\n",
      "1275/1275 [==============================] - 1s 444us/step - loss: 0.1143 - acc: 0.9608 - val_loss: 0.0589 - val_acc: 0.9937\n",
      "Epoch 17/30\n",
      "1275/1275 [==============================] - 1s 429us/step - loss: 0.0988 - acc: 0.9663 - val_loss: 0.0559 - val_acc: 0.9937\n",
      "Epoch 18/30\n",
      "1275/1275 [==============================] - 1s 433us/step - loss: 0.0944 - acc: 0.9702 - val_loss: 0.0521 - val_acc: 0.9937\n",
      "Epoch 19/30\n",
      "1275/1275 [==============================] - 1s 415us/step - loss: 0.0975 - acc: 0.9710 - val_loss: 0.0505 - val_acc: 0.9937\n",
      "Epoch 20/30\n",
      "1275/1275 [==============================] - 1s 434us/step - loss: 0.0793 - acc: 0.9780 - val_loss: 0.0483 - val_acc: 0.9937\n",
      "Epoch 21/30\n",
      "1275/1275 [==============================] - 1s 419us/step - loss: 0.0701 - acc: 0.9827 - val_loss: 0.0486 - val_acc: 0.9937\n",
      "Epoch 22/30\n",
      "1275/1275 [==============================] - 1s 430us/step - loss: 0.0603 - acc: 0.9890 - val_loss: 0.0443 - val_acc: 0.9906\n",
      "Epoch 23/30\n",
      "1275/1275 [==============================] - 1s 432us/step - loss: 0.0649 - acc: 0.9859 - val_loss: 0.0436 - val_acc: 0.9906\n",
      "Epoch 24/30\n",
      "1275/1275 [==============================] - 1s 423us/step - loss: 0.0569 - acc: 0.9867 - val_loss: 0.0469 - val_acc: 0.9937\n",
      "Epoch 25/30\n",
      "1275/1275 [==============================] - 1s 421us/step - loss: 0.0578 - acc: 0.9875 - val_loss: 0.0500 - val_acc: 0.9937\n",
      "Epoch 26/30\n",
      "1275/1275 [==============================] - 1s 420us/step - loss: 0.0504 - acc: 0.9867 - val_loss: 0.0385 - val_acc: 0.9937\n",
      "Epoch 27/30\n",
      "1275/1275 [==============================] - 1s 422us/step - loss: 0.0464 - acc: 0.9922 - val_loss: 0.0278 - val_acc: 0.9937\n",
      "Epoch 28/30\n",
      "1275/1275 [==============================] - 1s 428us/step - loss: 0.0475 - acc: 0.9929 - val_loss: 0.0278 - val_acc: 0.9969\n",
      "Epoch 29/30\n",
      "1275/1275 [==============================] - 1s 422us/step - loss: 0.0387 - acc: 0.9922 - val_loss: 0.0164 - val_acc: 0.9969\n",
      "Epoch 30/30\n",
      "1275/1275 [==============================] - 1s 431us/step - loss: 0.0401 - acc: 0.9953 - val_loss: 0.0180 - val_acc: 0.9969\n"
     ]
    }
   ],
   "source": [
    "history  = model.fit(X_train, y_train_hot,batch_size=128,epochs=30,verbose=1,validation_data=(X_test, y_test_hot))"
   ]
  },
  {
   "cell_type": "code",
   "execution_count": 29,
   "metadata": {},
   "outputs": [
    {
     "data": {
      "image/png": "[encoded data removed]",
      "text/plain": [
       "<Figure size 432x288 with 1 Axes>"
      ]
     },
     "metadata": {
      "needs_background": "light"
     },
     "output_type": "display_data"
    }
   ],
   "source": [
    "plt.plot(history.history[\"acc\"] ,label = \"accuracy\")\n",
    "plt.plot(history.history[\"val_acc\"], label = \"val_accuracy\")\n",
    "plt.title(\"Accuracy\")\n",
    "plt.legend(labels = [\"acc , val_accuracy\"] , loc =\"lower right\")\n",
    "plt.show()"
   ]
  },
  {
   "cell_type": "code",
   "execution_count": 33,
   "metadata": {},
   "outputs": [
    {
     "data": {
      "image/png": "[encoded data removed]",
      "text/plain": [
       "<Figure size 432x288 with 1 Axes>"
      ]
     },
     "metadata": {
      "needs_background": "light"
     },
     "output_type": "display_data"
    }
   ],
   "source": [
    "plt.plot(history.history[\"loss\"] )\n",
    "plt.plot(history.history[\"val_loss\"])\n",
    "plt.title(\"loss\")\n",
    "plt.legend(labels = [\"acc , val_accuracy\"] , loc =\"upper right\")\n",
    "plt.show()"
   ]
  },
  {
   "cell_type": "code",
   "execution_count": 40,
   "metadata": {},
   "outputs": [
    {
     "data": {
      "text/plain": [
       "array([0, 0, 0, 0, 2, 0, 0, 0, 0, 0, 0, 0, 0, 2, 0, 0, 0, 0, 0, 0, 2, 0,\n",
       "       2, 0, 0, 0, 0, 0, 0, 0, 0, 0, 0, 0, 0, 0, 0, 0, 0, 0, 0, 0, 0, 0,\n",
       "       0, 0, 0, 0, 0, 0, 2, 0, 0, 0, 0, 0, 0, 0, 2, 0, 0, 0, 0, 0, 0, 0,\n",
       "       0, 0, 0, 0, 0, 0, 2, 0, 0, 0, 0, 2, 0, 0, 0, 0, 0, 0, 0, 0, 0, 0,\n",
       "       0, 0, 0, 0, 0, 0, 0, 0, 0, 0, 0, 0, 0, 0, 0, 0, 0, 0, 0, 0, 0, 0,\n",
       "       0, 0, 2, 0, 0, 0, 0, 0, 0, 2, 0, 0, 0, 0, 0, 0, 0, 0, 0, 0, 2, 0,\n",
       "       0, 0, 0, 0, 0, 0, 0, 0, 0, 0, 0, 0, 0, 0, 0, 0, 0, 0, 0, 0, 0, 0,\n",
       "       0, 0, 0, 0, 0, 0, 0, 0, 0, 0, 0, 0, 0, 0, 0, 0, 0, 0, 0, 0, 0, 0,\n",
       "       0, 0, 0, 0, 0, 0, 0, 0, 0, 0, 0, 2, 0, 0, 2, 0, 0, 0, 0, 0, 0, 0,\n",
       "       0, 0, 2, 0, 0, 0, 0, 0, 0, 0, 0, 0, 0, 0, 0, 0, 0, 0, 0, 0, 0, 0,\n",
       "       0, 0, 0, 0, 0, 0, 0, 0, 0, 0, 0, 0, 0, 0, 0, 0, 0, 0, 2, 0, 0, 0,\n",
       "       0, 0, 2, 0, 0, 0, 0, 0, 0, 0, 0, 0, 0, 0, 0, 0, 0, 0, 0, 0, 0, 0,\n",
       "       0, 0, 2, 2, 0, 0, 0, 0, 0, 0, 0, 0, 0, 0, 0, 0, 0, 0, 0, 0, 0, 0,\n",
       "       0, 2, 0, 0, 0, 0, 0, 0, 0, 2, 0, 0, 0, 0, 0, 0, 0, 0, 0, 0, 0, 0,\n",
       "       0, 0, 0, 2, 0, 2, 0, 0, 2, 0, 0], dtype=int64)"
      ]
     },
     "execution_count": 40,
     "metadata": {},
     "output_type": "execute_result"
    }
   ],
   "source": [
    "pred = model.predict(X_test)\n",
    "pred = np.argmax(pred , axis=1)\n",
    "pred"
   ]
  },
  {
   "cell_type": "code",
   "execution_count": 44,
   "metadata": {},
   "outputs": [
    {
     "data": {
      "text/plain": [
       "array([0, 0, 0, 0, 2, 0, 0, 0, 0, 0, 0, 0, 0, 2, 0, 0, 0, 0, 0, 0, 2, 0,\n",
       "       2, 0, 0, 0, 0, 0, 0, 0, 0, 0, 0, 0, 0, 0, 0, 0, 0, 0, 0, 0, 0, 0,\n",
       "       0, 0, 0, 0, 0, 0, 2, 0, 0, 0, 0, 0, 0, 0, 2, 0, 0, 0, 0, 0, 0, 0,\n",
       "       0, 0, 0, 0, 0, 0, 2, 0, 0, 0, 0, 2, 0, 2, 0, 0, 0, 0, 0, 0, 0, 0,\n",
       "       0, 0, 0, 0, 0, 0, 0, 0, 0, 0, 0, 0, 0, 0, 0, 0, 0, 0, 0, 0, 0, 0,\n",
       "       0, 0, 2, 0, 0, 0, 0, 0, 0, 2, 0, 0, 0, 0, 0, 0, 0, 0, 0, 0, 2, 0,\n",
       "       0, 0, 0, 0, 0, 0, 0, 0, 0, 0, 0, 0, 0, 0, 0, 0, 0, 0, 0, 0, 0, 0,\n",
       "       0, 0, 0, 0, 0, 0, 0, 0, 0, 0, 0, 0, 0, 0, 0, 0, 0, 0, 0, 0, 0, 0,\n",
       "       0, 0, 0, 0, 0, 0, 0, 0, 0, 0, 0, 2, 0, 0, 2, 0, 0, 0, 0, 0, 0, 0,\n",
       "       0, 0, 2, 0, 0, 0, 0, 0, 0, 0, 0, 0, 0, 0, 0, 0, 0, 0, 0, 0, 0, 0,\n",
       "       0, 0, 0, 0, 0, 0, 0, 0, 0, 0, 0, 0, 0, 0, 0, 0, 0, 0, 2, 0, 0, 0,\n",
       "       0, 0, 2, 0, 0, 0, 0, 0, 0, 0, 0, 0, 0, 0, 0, 0, 0, 0, 0, 0, 0, 0,\n",
       "       0, 0, 2, 2, 0, 0, 0, 0, 0, 0, 0, 0, 0, 0, 0, 0, 0, 0, 0, 0, 0, 0,\n",
       "       0, 2, 0, 0, 0, 0, 0, 0, 0, 2, 0, 0, 0, 0, 0, 0, 0, 0, 0, 0, 0, 0,\n",
       "       0, 0, 0, 2, 0, 2, 0, 0, 2, 0, 0], dtype=int64)"
      ]
     },
     "execution_count": 44,
     "metadata": {},
     "output_type": "execute_result"
    }
   ],
   "source": [
    "y_test = np.argmax(y_test_hot, axis=1)\n",
    "y_test"
   ]
  },
  {
   "cell_type": "code",
   "execution_count": 55,
   "metadata": {},
   "outputs": [
    {
     "data": {
      "image/png": "[encoded data removed]",
      "text/plain": [
       "<Figure size 432x288 with 2 Axes>"
      ]
     },
     "metadata": {
      "needs_background": "light"
     },
     "output_type": "display_data"
    }
   ],
   "source": [
    "cm = confusion_matrix(pred, y_test)\n",
    "sns.heatmap(cm, annot=True, cmap='Blues', fmt='.0f')\n",
    "plt.xlabel('Predicted label')\n",
    "plt.ylabel('Actual Value')\n",
    "plt.show()"
   ]
  },
  {
   "cell_type": "code",
   "execution_count": 56,
   "metadata": {},
   "outputs": [],
   "source": [
    "model.save(\"tambhi.h5\")"
   ]
  },
  {
   "cell_type": "code",
   "execution_count": null,
   "metadata": {},
   "outputs": [],
   "source": []
  }
 ],
 "metadata": {
  "kernelspec": {
   "display_name": "Python 3",
   "language": "python",
   "name": "python3"
  },
  "language_info": {
   "codemirror_mode": {
    "name": "ipython",
    "version": 3
   },
   "file_extension": ".py",
   "mimetype": "text/x-python",
   "name": "python",
   "nbconvert_exporter": "python",
   "pygments_lexer": "ipython3",
   "version": "3.7.6"
  }
 },
 "nbformat": 4,
 "nbformat_minor": 4
}
